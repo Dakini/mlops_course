{
 "cells": [
  {
   "cell_type": "code",
   "execution_count": 1,
   "id": "dccf593f",
   "metadata": {},
   "outputs": [],
   "source": [
    "from mlflow.tracking import MlflowClient\n",
    "\n",
    "TRACKING_MODEL_URI = 'sqlite:///mlflow.db'\n",
    "client = MlflowClient(tracking_uri=TRACKING_MODEL_URI)\n"
   ]
  },
  {
   "cell_type": "code",
   "execution_count": 2,
   "id": "02f7d46f",
   "metadata": {},
   "outputs": [
    {
     "ename": "TypeError",
     "evalue": "MlflowClient.get_experiment() missing 1 required positional argument: 'experiment_id'",
     "output_type": "error",
     "traceback": [
      "\u001b[0;31m---------------------------------------------------------------------------\u001b[0m",
      "\u001b[0;31mTypeError\u001b[0m                                 Traceback (most recent call last)",
      "Cell \u001b[0;32mIn[2], line 1\u001b[0m\n\u001b[0;32m----> 1\u001b[0m \u001b[43mclient\u001b[49m\u001b[38;5;241;43m.\u001b[39;49m\u001b[43mget_experiment\u001b[49m\u001b[43m(\u001b[49m\u001b[43m)\u001b[49m\n",
      "\u001b[0;31mTypeError\u001b[0m: MlflowClient.get_experiment() missing 1 required positional argument: 'experiment_id'"
     ]
    }
   ],
   "source": [
    "client.get_experiment()"
   ]
  },
  {
   "cell_type": "code",
   "execution_count": 3,
   "id": "c85c81be",
   "metadata": {},
   "outputs": [
    {
     "data": {
      "text/plain": [
       "'3'"
      ]
     },
     "execution_count": 3,
     "metadata": {},
     "output_type": "execute_result"
    }
   ],
   "source": [
    "client.create_experiment('cool experiment')"
   ]
  },
  {
   "cell_type": "code",
   "execution_count": 71,
   "id": "1b6067d5",
   "metadata": {},
   "outputs": [],
   "source": [
    "from mlflow.entities import ViewType\n",
    "runs = client.search_runs(experiment_ids='1',\n",
    "                          filter_string=\"metrics.rmse < 6.8\", run_view_type=ViewType.ACTIVE_ONLY, max_results=5, \n",
    "                          order_by=[\"metrics.rsme ASC\"]\n",
    "                     )"
   ]
  },
  {
   "cell_type": "code",
   "execution_count": 78,
   "id": "122d96fa",
   "metadata": {},
   "outputs": [
    {
     "name": "stdout",
     "output_type": "stream",
     "text": [
      "run id 0eb7f00ef1aa4c409f70565d83cb6345 rmse: 6.742303328497426\n",
      "run id f0c883ba47384456b3a51b52141ec9e7 rmse: 6.318445793399953\n",
      "run id 90d27bd51dc94543ad23463c980da5f6 rmse: 6.448012843858803\n",
      "run id 41a3fda045a44c1398557bffbd37f020 rmse: 6.760811090508089\n"
     ]
    }
   ],
   "source": [
    "for run in runs:\n",
    "    print(f\"run id {run.info.run_id} rmse: {run.data.metrics['rmse']}\")"
   ]
  },
  {
   "cell_type": "code",
   "execution_count": 68,
   "id": "d0a84eac",
   "metadata": {},
   "outputs": [
    {
     "data": {
      "text/plain": [
       "[<Run: data=<RunData: metrics={'rmse': 803.4332360022197,\n",
       "  'training_mean_absolute_error': 41.22779651201669,\n",
       "  'training_mean_squared_error': 3779875.228756857,\n",
       "  'training_r2_score': -28269.27557363662,\n",
       "  'training_root_mean_squared_error': 1944.1901215562375,\n",
       "  'training_score': -28269.27557363662}, params={'C': '1.0',\n",
       "  'dual': 'warn',\n",
       "  'epsilon': '0.0',\n",
       "  'fit_intercept': 'True',\n",
       "  'intercept_scaling': '1.0',\n",
       "  'loss': 'epsilon_insensitive',\n",
       "  'max_iter': '1000',\n",
       "  'random_state': 'None',\n",
       "  'tol': '0.0001',\n",
       "  'train-data-path': 'data/green_taxi_data.parquet',\n",
       "  'val-data-path': 'data/green_taxi_data_02.parquet',\n",
       "  'verbose': '0'}, tags={'estimator_class': 'sklearn.svm._classes.LinearSVR',\n",
       "  'estimator_name': 'LinearSVR',\n",
       "  'mlflow.log-model.history': '[{\"run_id\": \"7aff4065af224c2c9eb9ef649ef09647\", '\n",
       "                              '\"artifact_path\": \"model\", \"utc_time_created\": '\n",
       "                              '\"2024-05-19 22:45:29.209875\", \"flavors\": '\n",
       "                              '{\"python_function\": {\"model_path\": \"model.pkl\", '\n",
       "                              '\"predict_fn\": \"predict\", \"loader_module\": '\n",
       "                              '\"mlflow.sklearn\", \"python_version\": \"3.10.14\", '\n",
       "                              '\"env\": {\"conda\": \"conda.yaml\", \"virtualenv\": '\n",
       "                              '\"python_env.yaml\"}}, \"sklearn\": '\n",
       "                              '{\"pickled_model\": \"model.pkl\", '\n",
       "                              '\"sklearn_version\": \"1.4.2\", '\n",
       "                              '\"serialization_format\": \"cloudpickle\", \"code\": '\n",
       "                              'null}}, \"model_uuid\": '\n",
       "                              '\"4eb7253261fa419196cbcab0eb967833\", '\n",
       "                              '\"mlflow_version\": \"2.12.2\", \"signature\": '\n",
       "                              '{\"inputs\": \"[{\\\\\"type\\\\\": \\\\\"tensor\\\\\", '\n",
       "                              '\\\\\"tensor-spec\\\\\": {\\\\\"dtype\\\\\": \\\\\"float64\\\\\", '\n",
       "                              '\\\\\"shape\\\\\": [-1, 13221]}}]\", \"outputs\": '\n",
       "                              '\"[{\\\\\"type\\\\\": \\\\\"tensor\\\\\", \\\\\"tensor-spec\\\\\": '\n",
       "                              '{\\\\\"dtype\\\\\": \\\\\"float64\\\\\", \\\\\"shape\\\\\": '\n",
       "                              '[-1]}}]\", \"params\": null}, \"model_size_bytes\": '\n",
       "                              '106270}]',\n",
       "  'mlflow.runName': 'unequaled-stoat-163',\n",
       "  'mlflow.source.name': '/Users/davidgillespie/opt/anaconda3/envs/data/lib/python3.10/site-packages/ipykernel_launcher.py',\n",
       "  'mlflow.source.type': 'LOCAL',\n",
       "  'mlflow.user': 'davidgillespie'}>, info=<RunInfo: artifact_uri=('/Users/davidgillespie/projects/mlops_course/week '\n",
       "  '2/course_work/mlruns/1/7aff4065af224c2c9eb9ef649ef09647/artifacts'), end_time=1716158733864, experiment_id='1', lifecycle_stage='active', run_id='7aff4065af224c2c9eb9ef649ef09647', run_name='unequaled-stoat-163', run_uuid='7aff4065af224c2c9eb9ef649ef09647', start_time=1716158727243, status='FINISHED', user_id='davidgillespie'>, inputs=<RunInputs: dataset_inputs=[<DatasetInput: dataset=<Dataset: digest='d9469a02', name='dataset', profile=('{\"features_shape\": [61921, 13221], \"features_size\": 818657541, '\n",
       "  '\"features_nbytes\": 6549260328}'), schema=('{\"mlflow_tensorspec\": {\"features\": \"[{\\\\\"type\\\\\": \\\\\"tensor\\\\\", '\n",
       "  '\\\\\"tensor-spec\\\\\": {\\\\\"dtype\\\\\": \\\\\"float64\\\\\", \\\\\"shape\\\\\": [-1, '\n",
       "  '13221]}}]\", \"targets\": null}}'), source=('{\"tags\": {\"mlflow.user\": \"davidgillespie\", \"mlflow.source.name\": '\n",
       "  '\"/Users/davidgillespie/opt/anaconda3/envs/data/lib/python3.10/site-packages/ipykernel_launcher.py\", '\n",
       "  '\"mlflow.source.type\": \"LOCAL\"}}'), source_type='code'>, tags=[<InputTag: key='mlflow.data.context', value='eval'>]>]>>,\n",
       " <Run: data=<RunData: metrics={'rmse': 6.92383157588255,\n",
       "  'training_mean_absolute_error': 0.4324816934807651,\n",
       "  'training_mean_squared_error': 1.5131414001023873,\n",
       "  'training_r2_score': 0.9886829797879753,\n",
       "  'training_root_mean_squared_error': 1.2300981262087944,\n",
       "  'training_score': 0.9886829797879753}, params={'bootstrap': 'False',\n",
       "  'ccp_alpha': '0.0',\n",
       "  'criterion': 'squared_error',\n",
       "  'max_depth': 'None',\n",
       "  'max_features': '1.0',\n",
       "  'max_leaf_nodes': 'None',\n",
       "  'max_samples': 'None',\n",
       "  'min_impurity_decrease': '0.0',\n",
       "  'min_samples_leaf': '1',\n",
       "  'min_samples_split': '2',\n",
       "  'min_weight_fraction_leaf': '0.0',\n",
       "  'monotonic_cst': 'None',\n",
       "  'n_estimators': '100',\n",
       "  'n_jobs': 'None',\n",
       "  'oob_score': 'False',\n",
       "  'random_state': 'None',\n",
       "  'train-data-path': 'data/green_taxi_data.parquet',\n",
       "  'val-data-path': 'data/green_taxi_data_02.parquet',\n",
       "  'verbose': '0',\n",
       "  'warm_start': 'False'}, tags={'estimator_class': 'sklearn.ensemble._forest.ExtraTreesRegressor',\n",
       "  'estimator_name': 'ExtraTreesRegressor',\n",
       "  'mlflow.log-model.history': '[{\"run_id\": \"6929cd52c64d42c19e516b19f8841e26\", '\n",
       "                              '\"artifact_path\": \"model\", \"utc_time_created\": '\n",
       "                              '\"2024-05-19 22:44:58.509842\", \"flavors\": '\n",
       "                              '{\"python_function\": {\"model_path\": \"model.pkl\", '\n",
       "                              '\"predict_fn\": \"predict\", \"loader_module\": '\n",
       "                              '\"mlflow.sklearn\", \"python_version\": \"3.10.14\", '\n",
       "                              '\"env\": {\"conda\": \"conda.yaml\", \"virtualenv\": '\n",
       "                              '\"python_env.yaml\"}}, \"sklearn\": '\n",
       "                              '{\"pickled_model\": \"model.pkl\", '\n",
       "                              '\"sklearn_version\": \"1.4.2\", '\n",
       "                              '\"serialization_format\": \"cloudpickle\", \"code\": '\n",
       "                              'null}}, \"model_uuid\": '\n",
       "                              '\"df5739b2218d4489851401444baf4589\", '\n",
       "                              '\"mlflow_version\": \"2.12.2\", \"signature\": '\n",
       "                              '{\"inputs\": \"[{\\\\\"type\\\\\": \\\\\"tensor\\\\\", '\n",
       "                              '\\\\\"tensor-spec\\\\\": {\\\\\"dtype\\\\\": \\\\\"float64\\\\\", '\n",
       "                              '\\\\\"shape\\\\\": [-1, 13221]}}]\", \"outputs\": '\n",
       "                              '\"[{\\\\\"type\\\\\": \\\\\"tensor\\\\\", \\\\\"tensor-spec\\\\\": '\n",
       "                              '{\\\\\"dtype\\\\\": \\\\\"float64\\\\\", \\\\\"shape\\\\\": '\n",
       "                              '[-1]}}]\", \"params\": null}, \"model_size_bytes\": '\n",
       "                              '833992192}]',\n",
       "  'mlflow.runName': 'classy-bee-524',\n",
       "  'mlflow.source.name': '/Users/davidgillespie/opt/anaconda3/envs/data/lib/python3.10/site-packages/ipykernel_launcher.py',\n",
       "  'mlflow.source.type': 'LOCAL',\n",
       "  'mlflow.user': 'davidgillespie'}>, info=<RunInfo: artifact_uri=('/Users/davidgillespie/projects/mlops_course/week '\n",
       "  '2/course_work/mlruns/1/6929cd52c64d42c19e516b19f8841e26/artifacts'), end_time=1716158727236, experiment_id='1', lifecycle_stage='active', run_id='6929cd52c64d42c19e516b19f8841e26', run_name='classy-bee-524', run_uuid='6929cd52c64d42c19e516b19f8841e26', start_time=1716157278903, status='FINISHED', user_id='davidgillespie'>, inputs=<RunInputs: dataset_inputs=[<DatasetInput: dataset=<Dataset: digest='d9469a02', name='dataset', profile=('{\"features_shape\": [61921, 13221], \"features_size\": 818657541, '\n",
       "  '\"features_nbytes\": 6549260328}'), schema=('{\"mlflow_tensorspec\": {\"features\": \"[{\\\\\"type\\\\\": \\\\\"tensor\\\\\", '\n",
       "  '\\\\\"tensor-spec\\\\\": {\\\\\"dtype\\\\\": \\\\\"float64\\\\\", \\\\\"shape\\\\\": [-1, '\n",
       "  '13221]}}]\", \"targets\": null}}'), source=('{\"tags\": {\"mlflow.user\": \"davidgillespie\", \"mlflow.source.name\": '\n",
       "  '\"/Users/davidgillespie/opt/anaconda3/envs/data/lib/python3.10/site-packages/ipykernel_launcher.py\", '\n",
       "  '\"mlflow.source.type\": \"LOCAL\"}}'), source_type='code'>, tags=[<InputTag: key='mlflow.data.context', value='eval'>]>]>>,\n",
       " <Run: data=<RunData: metrics={'rmse': 6.742303328497426,\n",
       "  'training_mean_absolute_error': 4.047813167088583,\n",
       "  'training_mean_squared_error': 34.56116799128581,\n",
       "  'training_r2_score': 0.7415116414882994,\n",
       "  'training_root_mean_squared_error': 5.8788747215165085,\n",
       "  'training_score': 0.7415116414882994}, params={'alpha': '0.9',\n",
       "  'ccp_alpha': '0.0',\n",
       "  'criterion': 'friedman_mse',\n",
       "  'init': 'None',\n",
       "  'learning_rate': '0.1',\n",
       "  'loss': 'squared_error',\n",
       "  'max_depth': '3',\n",
       "  'max_features': 'None',\n",
       "  'max_leaf_nodes': 'None',\n",
       "  'min_impurity_decrease': '0.0',\n",
       "  'min_samples_leaf': '1',\n",
       "  'min_samples_split': '2',\n",
       "  'min_weight_fraction_leaf': '0.0',\n",
       "  'n_estimators': '100',\n",
       "  'n_iter_no_change': 'None',\n",
       "  'random_state': 'None',\n",
       "  'subsample': '1.0',\n",
       "  'tol': '0.0001',\n",
       "  'train-data-path': 'data/green_taxi_data.parquet',\n",
       "  'val-data-path': 'data/green_taxi_data_02.parquet',\n",
       "  'validation_fraction': '0.1',\n",
       "  'verbose': '0',\n",
       "  'warm_start': 'False'}, tags={'estimator_class': 'sklearn.ensemble._gb.GradientBoostingRegressor',\n",
       "  'estimator_name': 'GradientBoostingRegressor',\n",
       "  'mlflow.log-model.history': '[{\"run_id\": \"0eb7f00ef1aa4c409f70565d83cb6345\", '\n",
       "                              '\"artifact_path\": \"model\", \"utc_time_created\": '\n",
       "                              '\"2024-05-19 22:21:14.439599\", \"flavors\": '\n",
       "                              '{\"python_function\": {\"model_path\": \"model.pkl\", '\n",
       "                              '\"predict_fn\": \"predict\", \"loader_module\": '\n",
       "                              '\"mlflow.sklearn\", \"python_version\": \"3.10.14\", '\n",
       "                              '\"env\": {\"conda\": \"conda.yaml\", \"virtualenv\": '\n",
       "                              '\"python_env.yaml\"}}, \"sklearn\": '\n",
       "                              '{\"pickled_model\": \"model.pkl\", '\n",
       "                              '\"sklearn_version\": \"1.4.2\", '\n",
       "                              '\"serialization_format\": \"cloudpickle\", \"code\": '\n",
       "                              'null}}, \"model_uuid\": '\n",
       "                              '\"7e461aefd701473f994f7ead89fdd7fc\", '\n",
       "                              '\"mlflow_version\": \"2.12.2\", \"signature\": '\n",
       "                              '{\"inputs\": \"[{\\\\\"type\\\\\": \\\\\"tensor\\\\\", '\n",
       "                              '\\\\\"tensor-spec\\\\\": {\\\\\"dtype\\\\\": \\\\\"float64\\\\\", '\n",
       "                              '\\\\\"shape\\\\\": [-1, 13221]}}]\", \"outputs\": '\n",
       "                              '\"[{\\\\\"type\\\\\": \\\\\"tensor\\\\\", \\\\\"tensor-spec\\\\\": '\n",
       "                              '{\\\\\"dtype\\\\\": \\\\\"float64\\\\\", \\\\\"shape\\\\\": '\n",
       "                              '[-1]}}]\", \"params\": null}, \"model_size_bytes\": '\n",
       "                              '130756}]',\n",
       "  'mlflow.runName': 'delicate-bat-26',\n",
       "  'mlflow.source.name': '/Users/davidgillespie/opt/anaconda3/envs/data/lib/python3.10/site-packages/ipykernel_launcher.py',\n",
       "  'mlflow.source.type': 'LOCAL',\n",
       "  'mlflow.user': 'davidgillespie'}>, info=<RunInfo: artifact_uri=('/Users/davidgillespie/projects/mlops_course/week '\n",
       "  '2/course_work/mlruns/1/0eb7f00ef1aa4c409f70565d83cb6345/artifacts'), end_time=1716157278898, experiment_id='1', lifecycle_stage='active', run_id='0eb7f00ef1aa4c409f70565d83cb6345', run_name='delicate-bat-26', run_uuid='0eb7f00ef1aa4c409f70565d83cb6345', start_time=1716157271695, status='FINISHED', user_id='davidgillespie'>, inputs=<RunInputs: dataset_inputs=[<DatasetInput: dataset=<Dataset: digest='d9469a02', name='dataset', profile=('{\"features_shape\": [61921, 13221], \"features_size\": 818657541, '\n",
       "  '\"features_nbytes\": 6549260328}'), schema=('{\"mlflow_tensorspec\": {\"features\": \"[{\\\\\"type\\\\\": \\\\\"tensor\\\\\", '\n",
       "  '\\\\\"tensor-spec\\\\\": {\\\\\"dtype\\\\\": \\\\\"float64\\\\\", \\\\\"shape\\\\\": [-1, '\n",
       "  '13221]}}]\", \"targets\": null}}'), source=('{\"tags\": {\"mlflow.user\": \"davidgillespie\", \"mlflow.source.name\": '\n",
       "  '\"/Users/davidgillespie/opt/anaconda3/envs/data/lib/python3.10/site-packages/ipykernel_launcher.py\", '\n",
       "  '\"mlflow.source.type\": \"LOCAL\"}}'), source_type='code'>, tags=[<InputTag: key='mlflow.data.context', value='eval'>]>]>>,\n",
       " <Run: data=<RunData: metrics={'rmse': 6.893942436225421,\n",
       "  'training_mean_absolute_error': 1.5993891208923245,\n",
       "  'training_mean_squared_error': 5.781130425923453,\n",
       "  'training_r2_score': 0.9567620250995051,\n",
       "  'training_root_mean_squared_error': 2.4043981421394114,\n",
       "  'training_score': 0.9567620250995051}, params={'bootstrap': 'True',\n",
       "  'ccp_alpha': '0.0',\n",
       "  'criterion': 'squared_error',\n",
       "  'max_depth': 'None',\n",
       "  'max_features': '1.0',\n",
       "  'max_leaf_nodes': 'None',\n",
       "  'max_samples': 'None',\n",
       "  'min_impurity_decrease': '0.0',\n",
       "  'min_samples_leaf': '1',\n",
       "  'min_samples_split': '2',\n",
       "  'min_weight_fraction_leaf': '0.0',\n",
       "  'monotonic_cst': 'None',\n",
       "  'n_estimators': '100',\n",
       "  'n_jobs': 'None',\n",
       "  'oob_score': 'False',\n",
       "  'random_state': 'None',\n",
       "  'train-data-path': 'data/green_taxi_data.parquet',\n",
       "  'val-data-path': 'data/green_taxi_data_02.parquet',\n",
       "  'verbose': '0',\n",
       "  'warm_start': 'False'}, tags={'estimator_class': 'sklearn.ensemble._forest.RandomForestRegressor',\n",
       "  'estimator_name': 'RandomForestRegressor',\n",
       "  'mlflow.log-model.history': '[{\"run_id\": \"54acee05c74a499d9a4f9e7e1633b479\", '\n",
       "                              '\"artifact_path\": \"model\", \"utc_time_created\": '\n",
       "                              '\"2024-05-19 22:21:00.813403\", \"flavors\": '\n",
       "                              '{\"python_function\": {\"model_path\": \"model.pkl\", '\n",
       "                              '\"predict_fn\": \"predict\", \"loader_module\": '\n",
       "                              '\"mlflow.sklearn\", \"python_version\": \"3.10.14\", '\n",
       "                              '\"env\": {\"conda\": \"conda.yaml\", \"virtualenv\": '\n",
       "                              '\"python_env.yaml\"}}, \"sklearn\": '\n",
       "                              '{\"pickled_model\": \"model.pkl\", '\n",
       "                              '\"sklearn_version\": \"1.4.2\", '\n",
       "                              '\"serialization_format\": \"cloudpickle\", \"code\": '\n",
       "                              'null}}, \"model_uuid\": '\n",
       "                              '\"14e68f13589e4f90b64e2e3bf5835347\", '\n",
       "                              '\"mlflow_version\": \"2.12.2\", \"signature\": '\n",
       "                              '{\"inputs\": \"[{\\\\\"type\\\\\": \\\\\"tensor\\\\\", '\n",
       "                              '\\\\\"tensor-spec\\\\\": {\\\\\"dtype\\\\\": \\\\\"float64\\\\\", '\n",
       "                              '\\\\\"shape\\\\\": [-1, 13221]}}]\", \"outputs\": '\n",
       "                              '\"[{\\\\\"type\\\\\": \\\\\"tensor\\\\\", \\\\\"tensor-spec\\\\\": '\n",
       "                              '{\\\\\"dtype\\\\\": \\\\\"float64\\\\\", \\\\\"shape\\\\\": '\n",
       "                              '[-1]}}]\", \"params\": null}, \"model_size_bytes\": '\n",
       "                              '542819439}]',\n",
       "  'mlflow.runName': 'charming-croc-559',\n",
       "  'mlflow.source.name': '/Users/davidgillespie/opt/anaconda3/envs/data/lib/python3.10/site-packages/ipykernel_launcher.py',\n",
       "  'mlflow.source.type': 'LOCAL',\n",
       "  'mlflow.user': 'davidgillespie'}>, info=<RunInfo: artifact_uri=('/Users/davidgillespie/projects/mlops_course/week '\n",
       "  '2/course_work/mlruns/1/54acee05c74a499d9a4f9e7e1633b479/artifacts'), end_time=1716157271691, experiment_id='1', lifecycle_stage='active', run_id='54acee05c74a499d9a4f9e7e1633b479', run_name='charming-croc-559', run_uuid='54acee05c74a499d9a4f9e7e1633b479', start_time=1716156689375, status='FINISHED', user_id='davidgillespie'>, inputs=<RunInputs: dataset_inputs=[<DatasetInput: dataset=<Dataset: digest='d9469a02', name='dataset', profile=('{\"features_shape\": [61921, 13221], \"features_size\": 818657541, '\n",
       "  '\"features_nbytes\": 6549260328}'), schema=('{\"mlflow_tensorspec\": {\"features\": \"[{\\\\\"type\\\\\": \\\\\"tensor\\\\\", '\n",
       "  '\\\\\"tensor-spec\\\\\": {\\\\\"dtype\\\\\": \\\\\"float64\\\\\", \\\\\"shape\\\\\": [-1, '\n",
       "  '13221]}}]\", \"targets\": null}}'), source=('{\"tags\": {\"mlflow.user\": \"davidgillespie\", \"mlflow.source.name\": '\n",
       "  '\"/Users/davidgillespie/opt/anaconda3/envs/data/lib/python3.10/site-packages/ipykernel_launcher.py\", '\n",
       "  '\"mlflow.source.type\": \"LOCAL\"}}'), source_type='code'>, tags=[<InputTag: key='mlflow.data.context', value='eval'>]>]>>,\n",
       " <Run: data=<RunData: metrics={'rmse': 6.318445793399953}, params={'learning_rate': '0.09585355369315604',\n",
       "  'max_depth': '30',\n",
       "  'min_child_weight': '1.060597050922164',\n",
       "  'objective': 'reg:linear',\n",
       "  'reg_alpha': '0.018060244040060163',\n",
       "  'reg_lambda': '0.011658731377413597',\n",
       "  'seed': '42'}, tags={'mlflow.log-model.history': '[{\"run_id\": \"f0c883ba47384456b3a51b52141ec9e7\", '\n",
       "                              '\"artifact_path\": \"models_mlflow\", '\n",
       "                              '\"utc_time_created\": \"2024-05-19 '\n",
       "                              '21:59:05.726812\", \"flavors\": {\"python_function\": '\n",
       "                              '{\"loader_module\": \"mlflow.xgboost\", '\n",
       "                              '\"python_version\": \"3.10.14\", \"data\": '\n",
       "                              '\"model.xgb\", \"env\": {\"conda\": \"conda.yaml\", '\n",
       "                              '\"virtualenv\": \"python_env.yaml\"}}, \"xgboost\": '\n",
       "                              '{\"xgb_version\": \"2.0.3\", \"data\": \"model.xgb\", '\n",
       "                              '\"model_class\": \"xgboost.core.Booster\", '\n",
       "                              '\"model_format\": \"xgb\", \"code\": null}}, '\n",
       "                              '\"model_uuid\": '\n",
       "                              '\"1e5cd9cff7c742ab95b61977fe2d251b\", '\n",
       "                              '\"mlflow_version\": \"2.12.2\", \"model_size_bytes\": '\n",
       "                              '8173094}]',\n",
       "  'mlflow.runName': 'adventurous-bee-549',\n",
       "  'mlflow.source.name': '/Users/davidgillespie/opt/anaconda3/envs/data/lib/python3.10/site-packages/ipykernel_launcher.py',\n",
       "  'mlflow.source.type': 'LOCAL',\n",
       "  'mlflow.user': 'davidgillespie'}>, info=<RunInfo: artifact_uri=('/Users/davidgillespie/projects/mlops_course/week '\n",
       "  '2/course_work/mlruns/1/f0c883ba47384456b3a51b52141ec9e7/artifacts'), end_time=1716155947785, experiment_id='1', lifecycle_stage='active', run_id='f0c883ba47384456b3a51b52141ec9e7', run_name='adventurous-bee-549', run_uuid='f0c883ba47384456b3a51b52141ec9e7', start_time=1716155894622, status='FINISHED', user_id='davidgillespie'>, inputs=<RunInputs: dataset_inputs=[]>>]"
      ]
     },
     "execution_count": 68,
     "metadata": {},
     "output_type": "execute_result"
    }
   ],
   "source": [
    "runs"
   ]
  },
  {
   "cell_type": "code",
   "execution_count": 73,
   "id": "a695d8bb",
   "metadata": {},
   "outputs": [],
   "source": [
    "import mlflow\n",
    "mlflow.set_tracking_uri(TRACKING_MODEL_URI)"
   ]
  },
  {
   "cell_type": "code",
   "execution_count": 117,
   "id": "96127e81",
   "metadata": {},
   "outputs": [
    {
     "name": "stderr",
     "output_type": "stream",
     "text": [
      "Registered model 'taxi-duration' already exists. Creating a new version of this model...\n",
      "Created version '4' of model 'taxi-duration'.\n"
     ]
    },
    {
     "data": {
      "text/plain": [
       "<ModelVersion: aliases=[], creation_timestamp=1716222489940, current_stage='None', description=None, last_updated_timestamp=1716222489940, name='taxi-duration', run_id='90d27bd51dc94543ad23463c980da5f6', run_link=None, source=('/Users/davidgillespie/projects/mlops_course/week '\n",
       " '2/course_work/mlruns/1/90d27bd51dc94543ad23463c980da5f6/artifacts/model'), status='READY', status_message=None, tags={}, user_id=None, version=4>"
      ]
     },
     "execution_count": 117,
     "metadata": {},
     "output_type": "execute_result"
    }
   ],
   "source": [
    "model_id = '90d27bd51dc94543ad23463c980da5f6'\n",
    "model_uri= f'runs:/{model_id}/model'\n",
    "model_name =  'taxi-duration'\n",
    "mlflow.register_model(model_uri=model_uri, name = model_name)"
   ]
  },
  {
   "cell_type": "code",
   "execution_count": 118,
   "id": "ddfe6635",
   "metadata": {},
   "outputs": [
    {
     "name": "stdout",
     "output_type": "stream",
     "text": [
      "3 Staging \n",
      "4 None \n"
     ]
    },
    {
     "name": "stderr",
     "output_type": "stream",
     "text": [
      "/var/folders/s8/tqf9wz192kn1c457rshvhg440000gn/T/ipykernel_1868/3012734961.py:1: FutureWarning: ``mlflow.tracking.client.MlflowClient.get_latest_versions`` is deprecated since 2.9.0. Model registry stages will be removed in a future major release. To learn more about the deprecation of model registry stages, see our migration guide here: https://mlflow.org/docs/2.12.2/model-registry.html#migrating-from-stages\n",
      "  latest_versions = client.get_latest_versions(name = model_name)\n"
     ]
    }
   ],
   "source": [
    "latest_versions = client.get_latest_versions(name = model_name)\n",
    "for ver in latest_versions:\n",
    "    print(f'{ver.version} {ver.current_stage} ')"
   ]
  },
  {
   "cell_type": "code",
   "execution_count": 120,
   "id": "c2295bd6",
   "metadata": {},
   "outputs": [
    {
     "name": "stderr",
     "output_type": "stream",
     "text": [
      "/var/folders/s8/tqf9wz192kn1c457rshvhg440000gn/T/ipykernel_1868/2787938495.py:3: FutureWarning: ``mlflow.tracking.client.MlflowClient.transition_model_version_stage`` is deprecated since 2.9.0. Model registry stages will be removed in a future major release. To learn more about the deprecation of model registry stages, see our migration guide here: https://mlflow.org/docs/2.12.2/model-registry.html#migrating-from-stages\n",
      "  client.transition_model_version_stage(name = model_name, version=version, stage=staging, archive_existing_versions=False)\n"
     ]
    },
    {
     "data": {
      "text/plain": [
       "<ModelVersion: aliases=[], creation_timestamp=1716222489940, current_stage='Staging', description=None, last_updated_timestamp=1716222496902, name='taxi-duration', run_id='90d27bd51dc94543ad23463c980da5f6', run_link=None, source=('/Users/davidgillespie/projects/mlops_course/week '\n",
       " '2/course_work/mlruns/1/90d27bd51dc94543ad23463c980da5f6/artifacts/model'), status='READY', status_message=None, tags={}, user_id=None, version=4>"
      ]
     },
     "execution_count": 120,
     "metadata": {},
     "output_type": "execute_result"
    }
   ],
   "source": [
    "version = 4\n",
    "staging = \"Staging\"\n",
    "client.transition_model_version_stage(name = model_name, version=version, stage=staging, archive_existing_versions=False)"
   ]
  },
  {
   "cell_type": "code",
   "execution_count": 121,
   "id": "9fc85d1d",
   "metadata": {},
   "outputs": [
    {
     "data": {
      "text/plain": [
       "<ModelVersion: aliases=[], creation_timestamp=1716222489940, current_stage='Staging', description='This model version 4 has been promoted to Staging', last_updated_timestamp=1716222497481, name='taxi-duration', run_id='90d27bd51dc94543ad23463c980da5f6', run_link=None, source=('/Users/davidgillespie/projects/mlops_course/week '\n",
       " '2/course_work/mlruns/1/90d27bd51dc94543ad23463c980da5f6/artifacts/model'), status='READY', status_message=None, tags={}, user_id=None, version=4>"
      ]
     },
     "execution_count": 121,
     "metadata": {},
     "output_type": "execute_result"
    }
   ],
   "source": [
    "client.update_model_version(name = model_name, version=version,description=f\"This model version {version} has been promoted to {staging}\" )"
   ]
  },
  {
   "cell_type": "code",
   "execution_count": 122,
   "id": "0126b3f7",
   "metadata": {},
   "outputs": [],
   "source": [
    "## retreive model from place"
   ]
  },
  {
   "cell_type": "code",
   "execution_count": 123,
   "id": "d9b2a3e7",
   "metadata": {},
   "outputs": [],
   "source": [
    "from sklearn.metrics import mean_squared_error\n",
    "import pandas as pd"
   ]
  },
  {
   "cell_type": "code",
   "execution_count": 124,
   "id": "a3c5da4f",
   "metadata": {},
   "outputs": [],
   "source": [
    "def read_dataframe(filepath):\n",
    "    if filepath.endswith('.csv'):\n",
    "        df = pd.read_csv(filename)\n",
    "\n",
    "        df.lpep_dropoff_datetime = pd.to_datetime(df.lpep_dropoff_datetime)\n",
    "        df.lpep_pickup_datetime = pd.to_datetime(df.lpep_pickup_datetime)\n",
    "    else:\n",
    "        df = pd.read_parquet(filepath)\n",
    "    df['duration'] = df.lpep_dropoff_datetime - df.lpep_pickup_datetime\n",
    "    df.duration = df.duration.apply(lambda td: td.total_seconds() / 60)\n",
    "    # df['duration'] = df['duration'].dt.\n",
    "\n",
    "    df = df[(df['duration']>=1 ) & (df['duration']<=60)]\n",
    "\n",
    "    categorical = ['PULocationID', 'DOLocationID']\n",
    "    numerical = ['trip_distance']\n",
    "    df[categorical] = df[categorical].astype(str)\n",
    "    return df"
   ]
  },
  {
   "cell_type": "code",
   "execution_count": 125,
   "id": "7a500dfd",
   "metadata": {},
   "outputs": [],
   "source": [
    "def preprocess_data(df, dv):\n",
    "    df['PU_DO'] = df['PULocationID'] + '_' + df['DOLocationID']\n",
    "    categorical = ['PU_DO'] #'PULocationID', 'DOLocationID']\n",
    "    numerical = ['trip_distance']\n",
    "    df_dicts = df[categorical + numerical].to_dict(orient='records')\n",
    "    \n",
    "    return dv.transform(df_dicts)"
   ]
  },
  {
   "cell_type": "code",
   "execution_count": 134,
   "id": "431f438a",
   "metadata": {},
   "outputs": [],
   "source": [
    "def test_model(model_name:str, staging:str, X_test:pd.DataFrame, y_test:list):\n",
    "    model = mlflow.pyfunc.load_model(f'models:/{model_name}/{staging}')\n",
    "    y_preds = model.predict(X_test)\n",
    "    return mean_squared_error(y_test, y_preds)"
   ]
  },
  {
   "cell_type": "code",
   "execution_count": 135,
   "id": "e79f8b0b",
   "metadata": {},
   "outputs": [],
   "source": [
    "model_id = 'f0c883ba47384456b3a51b52141ec9e7'"
   ]
  },
  {
   "cell_type": "code",
   "execution_count": 136,
   "id": "4c41fe9a",
   "metadata": {},
   "outputs": [
    {
     "data": {
      "application/vnd.jupyter.widget-view+json": {
       "model_id": "00d0f95d3ddc4e55910f89a924aa5cc3",
       "version_major": 2,
       "version_minor": 0
      },
      "text/plain": [
       "Downloading artifacts:   0%|          | 0/1 [00:00<?, ?it/s]"
      ]
     },
     "metadata": {},
     "output_type": "display_data"
    }
   ],
   "source": [
    "preprocesser = client.download_artifacts(run_id = model_id, path = 'preprocessor', dst_path='.')"
   ]
  },
  {
   "cell_type": "code",
   "execution_count": 137,
   "id": "500b86cc",
   "metadata": {},
   "outputs": [],
   "source": [
    "import pickle"
   ]
  },
  {
   "cell_type": "code",
   "execution_count": 138,
   "id": "e11c9ff0",
   "metadata": {},
   "outputs": [],
   "source": [
    "with open('preprocessor/preprocessor.b', 'rb') as fin:\n",
    "    dv = pickle.load(fin)"
   ]
  },
  {
   "cell_type": "code",
   "execution_count": 139,
   "id": "d61e1898",
   "metadata": {},
   "outputs": [],
   "source": [
    "df = read_dataframe('https://d37ci6vzurychx.cloudfront.net/trip-data/green_tripdata_2021-03.parquet')\n",
    "X_test= preprocess_data(df, dv)\n",
    "target = 'duration'\n",
    "y_test = df[target].values"
   ]
  },
  {
   "cell_type": "code",
   "execution_count": 145,
   "id": "a6308c88",
   "metadata": {},
   "outputs": [
    {
     "data": {
      "text/plain": [
       "44.35058955740374"
      ]
     },
     "execution_count": 145,
     "metadata": {},
     "output_type": "execute_result"
    }
   ],
   "source": [
    "test_model(model_name, 'Production',X_test, y_test)"
   ]
  },
  {
   "cell_type": "code",
   "execution_count": 146,
   "id": "8ab3b456",
   "metadata": {},
   "outputs": [
    {
     "name": "stderr",
     "output_type": "stream",
     "text": [
      "/Users/davidgillespie/opt/anaconda3/envs/data/lib/python3.10/site-packages/mlflow/store/artifact/utils/models.py:32: FutureWarning: ``mlflow.tracking.client.MlflowClient.get_latest_versions`` is deprecated since 2.9.0. Model registry stages will be removed in a future major release. To learn more about the deprecation of model registry stages, see our migration guide here: https://mlflow.org/docs/2.12.2/model-registry.html#migrating-from-stages\n",
      "  latest = client.get_latest_versions(name, None if stage is None else [stage])\n"
     ]
    },
    {
     "ename": "OSError",
     "evalue": "No such file or directory: '/Users/davidgillespie/projects/mlops_course/week 2/course_work/mlruns/1/90d27bd51dc94543ad23463c980da5f6/artifacts/model/.'",
     "output_type": "error",
     "traceback": [
      "\u001b[0;31m---------------------------------------------------------------------------\u001b[0m",
      "\u001b[0;31mOSError\u001b[0m                                   Traceback (most recent call last)",
      "Cell \u001b[0;32mIn[146], line 1\u001b[0m\n\u001b[0;32m----> 1\u001b[0m \u001b[43mtest_model\u001b[49m\u001b[43m(\u001b[49m\u001b[43mmodel_name\u001b[49m\u001b[43m,\u001b[49m\u001b[43m \u001b[49m\u001b[38;5;124;43m'\u001b[39;49m\u001b[38;5;124;43mStaging\u001b[39;49m\u001b[38;5;124;43m'\u001b[39;49m\u001b[43m,\u001b[49m\u001b[43mX_test\u001b[49m\u001b[43m,\u001b[49m\u001b[43m \u001b[49m\u001b[43my_test\u001b[49m\u001b[43m)\u001b[49m\n",
      "Cell \u001b[0;32mIn[134], line 2\u001b[0m, in \u001b[0;36mtest_model\u001b[0;34m(model_name, staging, X_test, y_test)\u001b[0m\n\u001b[1;32m      1\u001b[0m \u001b[38;5;28;01mdef\u001b[39;00m \u001b[38;5;21mtest_model\u001b[39m(model_name:\u001b[38;5;28mstr\u001b[39m, staging:\u001b[38;5;28mstr\u001b[39m, X_test:pd\u001b[38;5;241m.\u001b[39mDataFrame, y_test:\u001b[38;5;28mlist\u001b[39m):\n\u001b[0;32m----> 2\u001b[0m     model \u001b[38;5;241m=\u001b[39m \u001b[43mmlflow\u001b[49m\u001b[38;5;241;43m.\u001b[39;49m\u001b[43mpyfunc\u001b[49m\u001b[38;5;241;43m.\u001b[39;49m\u001b[43mload_model\u001b[49m\u001b[43m(\u001b[49m\u001b[38;5;124;43mf\u001b[39;49m\u001b[38;5;124;43m'\u001b[39;49m\u001b[38;5;124;43mmodels:/\u001b[39;49m\u001b[38;5;132;43;01m{\u001b[39;49;00m\u001b[43mmodel_name\u001b[49m\u001b[38;5;132;43;01m}\u001b[39;49;00m\u001b[38;5;124;43m/\u001b[39;49m\u001b[38;5;132;43;01m{\u001b[39;49;00m\u001b[43mstaging\u001b[49m\u001b[38;5;132;43;01m}\u001b[39;49;00m\u001b[38;5;124;43m'\u001b[39;49m\u001b[43m)\u001b[49m\n\u001b[1;32m      3\u001b[0m     y_preds \u001b[38;5;241m=\u001b[39m model\u001b[38;5;241m.\u001b[39mpredict(X_test)\n\u001b[1;32m      4\u001b[0m     \u001b[38;5;28;01mreturn\u001b[39;00m mean_squared_error(y_test, y_preds)\n",
      "File \u001b[0;32m~/opt/anaconda3/envs/data/lib/python3.10/site-packages/mlflow/pyfunc/__init__.py:900\u001b[0m, in \u001b[0;36mload_model\u001b[0;34m(model_uri, suppress_warnings, dst_path, model_config)\u001b[0m\n\u001b[1;32m    865\u001b[0m \u001b[38;5;28;01mdef\u001b[39;00m \u001b[38;5;21mload_model\u001b[39m(\n\u001b[1;32m    866\u001b[0m     model_uri: \u001b[38;5;28mstr\u001b[39m,\n\u001b[1;32m    867\u001b[0m     suppress_warnings: \u001b[38;5;28mbool\u001b[39m \u001b[38;5;241m=\u001b[39m \u001b[38;5;28;01mFalse\u001b[39;00m,\n\u001b[1;32m    868\u001b[0m     dst_path: Optional[\u001b[38;5;28mstr\u001b[39m] \u001b[38;5;241m=\u001b[39m \u001b[38;5;28;01mNone\u001b[39;00m,\n\u001b[1;32m    869\u001b[0m     model_config: Optional[Dict[\u001b[38;5;28mstr\u001b[39m, Any]] \u001b[38;5;241m=\u001b[39m \u001b[38;5;28;01mNone\u001b[39;00m,\n\u001b[1;32m    870\u001b[0m ) \u001b[38;5;241m-\u001b[39m\u001b[38;5;241m>\u001b[39m PyFuncModel:\n\u001b[1;32m    871\u001b[0m \u001b[38;5;250m    \u001b[39m\u001b[38;5;124;03m\"\"\"\u001b[39;00m\n\u001b[1;32m    872\u001b[0m \u001b[38;5;124;03m    Load a model stored in Python function format.\u001b[39;00m\n\u001b[1;32m    873\u001b[0m \n\u001b[0;32m   (...)\u001b[0m\n\u001b[1;32m    898\u001b[0m \u001b[38;5;124;03m                release without warning.\u001b[39;00m\n\u001b[1;32m    899\u001b[0m \u001b[38;5;124;03m    \"\"\"\u001b[39;00m\n\u001b[0;32m--> 900\u001b[0m     local_path \u001b[38;5;241m=\u001b[39m \u001b[43m_download_artifact_from_uri\u001b[49m\u001b[43m(\u001b[49m\u001b[43martifact_uri\u001b[49m\u001b[38;5;241;43m=\u001b[39;49m\u001b[43mmodel_uri\u001b[49m\u001b[43m,\u001b[49m\u001b[43m \u001b[49m\u001b[43moutput_path\u001b[49m\u001b[38;5;241;43m=\u001b[39;49m\u001b[43mdst_path\u001b[49m\u001b[43m)\u001b[49m\n\u001b[1;32m    902\u001b[0m     \u001b[38;5;28;01mif\u001b[39;00m \u001b[38;5;129;01mnot\u001b[39;00m suppress_warnings:\n\u001b[1;32m    903\u001b[0m         model_requirements \u001b[38;5;241m=\u001b[39m _get_pip_requirements_from_model_path(local_path)\n",
      "File \u001b[0;32m~/opt/anaconda3/envs/data/lib/python3.10/site-packages/mlflow/tracking/artifact_utils.py:106\u001b[0m, in \u001b[0;36m_download_artifact_from_uri\u001b[0;34m(artifact_uri, output_path)\u001b[0m\n\u001b[1;32m     99\u001b[0m \u001b[38;5;250m\u001b[39m\u001b[38;5;124;03m\"\"\"\u001b[39;00m\n\u001b[1;32m    100\u001b[0m \u001b[38;5;124;03mArgs:\u001b[39;00m\n\u001b[1;32m    101\u001b[0m \u001b[38;5;124;03m    artifact_uri: The *absolute* URI of the artifact to download.\u001b[39;00m\n\u001b[1;32m    102\u001b[0m \u001b[38;5;124;03m    output_path: The local filesystem path to which to download the artifact. If unspecified,\u001b[39;00m\n\u001b[1;32m    103\u001b[0m \u001b[38;5;124;03m        a local output path will be created.\u001b[39;00m\n\u001b[1;32m    104\u001b[0m \u001b[38;5;124;03m\"\"\"\u001b[39;00m\n\u001b[1;32m    105\u001b[0m root_uri, artifact_path \u001b[38;5;241m=\u001b[39m _get_root_uri_and_artifact_path(artifact_uri)\n\u001b[0;32m--> 106\u001b[0m \u001b[38;5;28;01mreturn\u001b[39;00m \u001b[43mget_artifact_repository\u001b[49m\u001b[43m(\u001b[49m\u001b[43martifact_uri\u001b[49m\u001b[38;5;241;43m=\u001b[39;49m\u001b[43mroot_uri\u001b[49m\u001b[43m)\u001b[49m\u001b[38;5;241;43m.\u001b[39;49m\u001b[43mdownload_artifacts\u001b[49m\u001b[43m(\u001b[49m\n\u001b[1;32m    107\u001b[0m \u001b[43m    \u001b[49m\u001b[43martifact_path\u001b[49m\u001b[38;5;241;43m=\u001b[39;49m\u001b[43martifact_path\u001b[49m\u001b[43m,\u001b[49m\u001b[43m \u001b[49m\u001b[43mdst_path\u001b[49m\u001b[38;5;241;43m=\u001b[39;49m\u001b[43moutput_path\u001b[49m\n\u001b[1;32m    108\u001b[0m \u001b[43m\u001b[49m\u001b[43m)\u001b[49m\n",
      "File \u001b[0;32m~/opt/anaconda3/envs/data/lib/python3.10/site-packages/mlflow/store/artifact/models_artifact_repo.py:184\u001b[0m, in \u001b[0;36mModelsArtifactRepository.download_artifacts\u001b[0;34m(self, artifact_path, dst_path)\u001b[0m\n\u001b[1;32m    163\u001b[0m \u001b[38;5;250m\u001b[39m\u001b[38;5;124;03m\"\"\"\u001b[39;00m\n\u001b[1;32m    164\u001b[0m \u001b[38;5;124;03mDownload an artifact file or directory to a local directory if applicable, and return a\u001b[39;00m\n\u001b[1;32m    165\u001b[0m \u001b[38;5;124;03mlocal path for it.\u001b[39;00m\n\u001b[0;32m   (...)\u001b[0m\n\u001b[1;32m    179\u001b[0m \u001b[38;5;124;03m    Absolute path of the local filesystem location containing the desired artifacts.\u001b[39;00m\n\u001b[1;32m    180\u001b[0m \u001b[38;5;124;03m\"\"\"\u001b[39;00m\n\u001b[1;32m    182\u001b[0m \u001b[38;5;28;01mfrom\u001b[39;00m \u001b[38;5;21;01mmlflow\u001b[39;00m\u001b[38;5;21;01m.\u001b[39;00m\u001b[38;5;21;01mmodels\u001b[39;00m\u001b[38;5;21;01m.\u001b[39;00m\u001b[38;5;21;01mmodel\u001b[39;00m \u001b[38;5;28;01mimport\u001b[39;00m MLMODEL_FILE_NAME\n\u001b[0;32m--> 184\u001b[0m model_path \u001b[38;5;241m=\u001b[39m \u001b[38;5;28;43mself\u001b[39;49m\u001b[38;5;241;43m.\u001b[39;49m\u001b[43mrepo\u001b[49m\u001b[38;5;241;43m.\u001b[39;49m\u001b[43mdownload_artifacts\u001b[49m\u001b[43m(\u001b[49m\u001b[43martifact_path\u001b[49m\u001b[43m,\u001b[49m\u001b[43m \u001b[49m\u001b[43mdst_path\u001b[49m\u001b[43m)\u001b[49m\n\u001b[1;32m    185\u001b[0m \u001b[38;5;66;03m# NB: only add the registered model metadata iff the artifact path is at the root model\u001b[39;00m\n\u001b[1;32m    186\u001b[0m \u001b[38;5;66;03m# directory. For individual files or subdirectories within the model directory, do not\u001b[39;00m\n\u001b[1;32m    187\u001b[0m \u001b[38;5;66;03m# create the metadata file.\u001b[39;00m\n\u001b[1;32m    188\u001b[0m \u001b[38;5;28;01mif\u001b[39;00m os\u001b[38;5;241m.\u001b[39mpath\u001b[38;5;241m.\u001b[39misdir(model_path) \u001b[38;5;129;01mand\u001b[39;00m MLMODEL_FILE_NAME \u001b[38;5;129;01min\u001b[39;00m os\u001b[38;5;241m.\u001b[39mlistdir(model_path):\n",
      "File \u001b[0;32m~/opt/anaconda3/envs/data/lib/python3.10/site-packages/mlflow/store/artifact/local_artifact_repo.py:85\u001b[0m, in \u001b[0;36mLocalArtifactRepository.download_artifacts\u001b[0;34m(self, artifact_path, dst_path)\u001b[0m\n\u001b[1;32m     83\u001b[0m local_artifact_path \u001b[38;5;241m=\u001b[39m os\u001b[38;5;241m.\u001b[39mpath\u001b[38;5;241m.\u001b[39mjoin(\u001b[38;5;28mself\u001b[39m\u001b[38;5;241m.\u001b[39martifact_dir, os\u001b[38;5;241m.\u001b[39mpath\u001b[38;5;241m.\u001b[39mnormpath(artifact_path))\n\u001b[1;32m     84\u001b[0m \u001b[38;5;28;01mif\u001b[39;00m \u001b[38;5;129;01mnot\u001b[39;00m os\u001b[38;5;241m.\u001b[39mpath\u001b[38;5;241m.\u001b[39mexists(local_artifact_path):\n\u001b[0;32m---> 85\u001b[0m     \u001b[38;5;28;01mraise\u001b[39;00m \u001b[38;5;167;01mOSError\u001b[39;00m(\u001b[38;5;124mf\u001b[39m\u001b[38;5;124m\"\u001b[39m\u001b[38;5;124mNo such file or directory: \u001b[39m\u001b[38;5;124m'\u001b[39m\u001b[38;5;132;01m{\u001b[39;00mlocal_artifact_path\u001b[38;5;132;01m}\u001b[39;00m\u001b[38;5;124m'\u001b[39m\u001b[38;5;124m\"\u001b[39m)\n\u001b[1;32m     86\u001b[0m \u001b[38;5;28;01mreturn\u001b[39;00m os\u001b[38;5;241m.\u001b[39mpath\u001b[38;5;241m.\u001b[39mabspath(local_artifact_path)\n",
      "\u001b[0;31mOSError\u001b[0m: No such file or directory: '/Users/davidgillespie/projects/mlops_course/week 2/course_work/mlruns/1/90d27bd51dc94543ad23463c980da5f6/artifacts/model/.'"
     ]
    }
   ],
   "source": [
    "test_model(model_name, 'Staging',X_test, y_test)"
   ]
  },
  {
   "cell_type": "code",
   "execution_count": 144,
   "id": "479c5553",
   "metadata": {},
   "outputs": [
    {
     "data": {
      "text/plain": [
       "'taxi-duration'"
      ]
     },
     "execution_count": 144,
     "metadata": {},
     "output_type": "execute_result"
    }
   ],
   "source": [
    "model_name"
   ]
  },
  {
   "cell_type": "code",
   "execution_count": null,
   "id": "1e21f274",
   "metadata": {},
   "outputs": [],
   "source": []
  }
 ],
 "metadata": {
  "kernelspec": {
   "display_name": "Python 3 (ipykernel)",
   "language": "python",
   "name": "python3"
  },
  "language_info": {
   "codemirror_mode": {
    "name": "ipython",
    "version": 3
   },
   "file_extension": ".py",
   "mimetype": "text/x-python",
   "name": "python",
   "nbconvert_exporter": "python",
   "pygments_lexer": "ipython3",
   "version": "3.10.14"
  }
 },
 "nbformat": 4,
 "nbformat_minor": 5
}
