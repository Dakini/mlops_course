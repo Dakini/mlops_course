{
 "cells": [
  {
   "cell_type": "markdown",
   "id": "2efd3f61",
   "metadata": {},
   "source": [
    "## Scenario 1: A single data scientist participating in an ML competition\n",
    "MLflow setup:\n",
    "\n",
    "- Tracking server: no\n",
    "- Backend store: local filesystem\n",
    "- Artifacts store: local filesystem\n",
    "\n",
    "The experiments can be explored locally by launching the MLflow UI."
   ]
  },
  {
   "cell_type": "code",
   "execution_count": 1,
   "id": "b1067ecc",
   "metadata": {},
   "outputs": [],
   "source": [
    "import mlflow"
   ]
  },
  {
   "cell_type": "code",
   "execution_count": 2,
   "id": "dc38cfd7",
   "metadata": {},
   "outputs": [
    {
     "name": "stdout",
     "output_type": "stream",
     "text": [
      "Model tracking URI is file:///Users/davidgillespie/projects/mlops_course/week%202/course_work/scenarios/mlruns\n"
     ]
    }
   ],
   "source": [
    "print(f'Model tracking URI is {mlflow.get_tracking_uri()}')"
   ]
  },
  {
   "cell_type": "markdown",
   "id": "12747184",
   "metadata": {},
   "source": [
    "# Create an experiment and log it "
   ]
  },
  {
   "cell_type": "code",
   "execution_count": 14,
   "id": "c3a75faf",
   "metadata": {},
   "outputs": [
    {
     "name": "stdout",
     "output_type": "stream",
     "text": [
      "default artifact path is file:///Users/davidgillespie/projects/mlops_course/week%202/course_work/scenarios/mlruns/406478921713745162/899e170f579f45be80900645a0b2f2d1/artifacts\n"
     ]
    }
   ],
   "source": [
    "from sklearn.ensemble import RandomForestClassifier\n",
    "from sklearn.datasets import load_iris\n",
    "from sklearn.metrics import accuracy_score\n",
    "\n",
    "mlflow.set_experiment('run 1')\n",
    "\n",
    "with mlflow.start_run():\n",
    "    \n",
    "    X,y = load_iris(return_X_y=True)\n",
    "    params = {\"n_estimators\": 1000, \"random_state\": 42}\n",
    "\n",
    "    mlflow.log_params(params)\n",
    "    \n",
    "    model = RandomForestClassifier(**params).fit(X,y)\n",
    "    y_pred = model.predict(X)\n",
    "    \n",
    "    acc = accuracy_score(y, y_pred)\n",
    "    mlflow.log_metric('accuracy', acc)\n",
    "    mlflow.sklearn.log_model(model, artifact_path='models')\n",
    "    print(f'default artifact path is {mlflow.get_artifact_uri()}')\n",
    "    "
   ]
  },
  {
   "cell_type": "code",
   "execution_count": 12,
   "id": "87b5275b",
   "metadata": {},
   "outputs": [],
   "source": []
  },
  {
   "cell_type": "code",
   "execution_count": 15,
   "id": "74b99bef",
   "metadata": {},
   "outputs": [],
   "source": [
    "#interactin with model registry"
   ]
  },
  {
   "cell_type": "code",
   "execution_count": 16,
   "id": "073e2010",
   "metadata": {},
   "outputs": [],
   "source": [
    "from mlflow.tracking import MlflowClient\n",
    "\n",
    "client = MlflowClient()"
   ]
  },
  {
   "cell_type": "code",
   "execution_count": 19,
   "id": "1fa255ee",
   "metadata": {},
   "outputs": [],
   "source": [
    "from mlflow.exceptions import MlflowException\n",
    "\n",
    "try:\n",
    "    client.search_experiments()\n",
    "except MlflowException:\n",
    "    print(\"It's not possible to access the model registry :(\")"
   ]
  },
  {
   "cell_type": "code",
   "execution_count": 20,
   "id": "75e63730",
   "metadata": {},
   "outputs": [
    {
     "data": {
      "text/plain": [
       "[<Experiment: artifact_location='file:///Users/davidgillespie/projects/mlops_course/week%202/course_work/scenarios/mlruns/406478921713745162', creation_time=1716232681113, experiment_id='406478921713745162', last_update_time=1716232681113, lifecycle_stage='active', name='run 1', tags={}>,\n",
       " <Experiment: artifact_location='file:///Users/davidgillespie/projects/mlops_course/week%202/course_work/scenarios/mlruns/0', creation_time=1716232681093, experiment_id='0', last_update_time=1716232681093, lifecycle_stage='active', name='Default', tags={}>]"
      ]
     },
     "execution_count": 20,
     "metadata": {},
     "output_type": "execute_result"
    }
   ],
   "source": [
    "client.search_experiments()"
   ]
  },
  {
   "cell_type": "code",
   "execution_count": null,
   "id": "94ff1cf6",
   "metadata": {},
   "outputs": [],
   "source": []
  }
 ],
 "metadata": {
  "kernelspec": {
   "display_name": "Python 3 (ipykernel)",
   "language": "python",
   "name": "python3"
  },
  "language_info": {
   "codemirror_mode": {
    "name": "ipython",
    "version": 3
   },
   "file_extension": ".py",
   "mimetype": "text/x-python",
   "name": "python",
   "nbconvert_exporter": "python",
   "pygments_lexer": "ipython3",
   "version": "3.10.14"
  }
 },
 "nbformat": 4,
 "nbformat_minor": 5
}
