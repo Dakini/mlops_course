{
 "cells": [
  {
   "cell_type": "markdown",
   "id": "0ebe9424",
   "metadata": {},
   "source": [
    "## Scenario 2: A cross-functional team with one data scientist working on an ML model\n",
    "MLflow setup:\n",
    "\n",
    "- tracking server: yes, local server\n",
    "- backend store: sqlite database\n",
    "- artifacts store: local filesystem\n",
    "- The experiments can be explored locally by accessing the local tracking server.\n",
    "\n",
    "To run this example you need to launch the mlflow server locally by running the following command in your terminal:\n",
    "\n",
    "mlflow server --backend-store-uri sqlite:///backend.db"
   ]
  },
  {
   "cell_type": "code",
   "execution_count": 5,
   "id": "90493d25",
   "metadata": {},
   "outputs": [],
   "source": [
    "import mlflow"
   ]
  },
  {
   "cell_type": "code",
   "execution_count": 6,
   "id": "0821bfe1",
   "metadata": {},
   "outputs": [],
   "source": [
    "mlflow.set_tracking_uri('http://127.0.0.1:5000/')"
   ]
  },
  {
   "cell_type": "code",
   "execution_count": 7,
   "id": "b2912f1d",
   "metadata": {},
   "outputs": [
    {
     "name": "stdout",
     "output_type": "stream",
     "text": [
      "The tracking URI is http://127.0.0.1:5000/ \n"
     ]
    }
   ],
   "source": [
    "print(f'The tracking URI is {mlflow.get_tracking_uri()} ')"
   ]
  },
  {
   "cell_type": "code",
   "execution_count": 8,
   "id": "940042ae",
   "metadata": {},
   "outputs": [
    {
     "data": {
      "text/plain": [
       "[<Experiment: artifact_location='mlflow-artifacts:/0', creation_time=1716233294528, experiment_id='0', last_update_time=1716233294528, lifecycle_stage='active', name='Default', tags={}>]"
      ]
     },
     "execution_count": 8,
     "metadata": {},
     "output_type": "execute_result"
    }
   ],
   "source": [
    "mlflow.search_experiments()"
   ]
  },
  {
   "cell_type": "markdown",
   "id": "596e5a14-5fe7-484d-9eb4-739a2ea84426",
   "metadata": {},
   "source": [
    "## train an experiment "
   ]
  },
  {
   "cell_type": "code",
   "execution_count": 10,
   "id": "d9544809-9daa-4017-b88c-a42c3165a919",
   "metadata": {},
   "outputs": [
    {
     "name": "stderr",
     "output_type": "stream",
     "text": [
      "2024/05/20 20:32:51 INFO mlflow.tracking.fluent: Experiment with name 'scenario 2 ' does not exist. Creating a new experiment.\n"
     ]
    },
    {
     "name": "stdout",
     "output_type": "stream",
     "text": [
      "default artifact path is /Users/davidgillespie/projects/mlops_course/week 2/course_work/scenarios/local_artifacts/1/e43f819f7cec4e4b9d6225db05abee93/artifacts\n"
     ]
    }
   ],
   "source": [
    "from sklearn.ensemble import RandomForestClassifier\n",
    "from sklearn.datasets import load_iris\n",
    "from sklearn.metrics import accuracy_score\n",
    "\n",
    "mlflow.set_experiment('scenario 2 ')\n",
    "\n",
    "with mlflow.start_run():\n",
    "    \n",
    "    X,y = load_iris(return_X_y=True)\n",
    "    params = {\"n_estimators\": 1000, \"random_state\": 42}\n",
    "\n",
    "    mlflow.log_params(params)\n",
    "    \n",
    "    model = RandomForestClassifier(**params).fit(X,y)\n",
    "    y_pred = model.predict(X)\n",
    "    \n",
    "    acc = accuracy_score(y, y_pred)\n",
    "    mlflow.log_metric('accuracy', acc)\n",
    "    mlflow.sklearn.log_model(model, artifact_path='models')\n",
    "    print(f'default artifact path is {mlflow.get_artifact_uri()}')\n",
    "    "
   ]
  },
  {
   "cell_type": "code",
   "execution_count": 13,
   "id": "c84872f2-c3c3-42a3-a534-d5996d6a192d",
   "metadata": {},
   "outputs": [],
   "source": [
    "from mlflow.tracking import MlflowClient\n",
    "\n",
    "client = MlflowClient(tracking_uri = 'http://127.0.0.1:5000/')"
   ]
  },
  {
   "cell_type": "code",
   "execution_count": 14,
   "id": "1223a3fa-652a-4f03-b963-fb870b0e0623",
   "metadata": {},
   "outputs": [
    {
     "data": {
      "text/plain": [
       "[]"
      ]
     },
     "execution_count": 14,
     "metadata": {},
     "output_type": "execute_result"
    }
   ],
   "source": [
    "client.search_registered_models()"
   ]
  },
  {
   "cell_type": "code",
   "execution_count": 62,
   "id": "408374ec-8bab-445d-8583-9a239b0e2a07",
   "metadata": {},
   "outputs": [],
   "source": [
    "run_id = client.search_runs(experiment_ids='1')[0].info.run_id"
   ]
  },
  {
   "cell_type": "code",
   "execution_count": 64,
   "id": "d0e393b3-4f59-4b94-b53d-776382167d28",
   "metadata": {},
   "outputs": [
    {
     "name": "stderr",
     "output_type": "stream",
     "text": [
      "Successfully registered model 'iris-classifier'.\n",
      "2024/05/20 20:52:40 INFO mlflow.store.model_registry.abstract_store: Waiting up to 300 seconds for model version to finish creation. Model name: iris-classifier, version 1\n",
      "Created version '1' of model 'iris-classifier'.\n"
     ]
    },
    {
     "data": {
      "text/plain": [
       "<ModelVersion: aliases=[], creation_timestamp=1716234760800, current_stage='None', description='', last_updated_timestamp=1716234760800, name='iris-classifier', run_id='e43f819f7cec4e4b9d6225db05abee93', run_link='', source=('/Users/davidgillespie/projects/mlops_course/week '\n",
       " '2/course_work/scenarios/local_artifacts/1/e43f819f7cec4e4b9d6225db05abee93/artifacts/models'), status='READY', status_message='', tags={}, user_id='', version='1'>"
      ]
     },
     "execution_count": 64,
     "metadata": {},
     "output_type": "execute_result"
    }
   ],
   "source": [
    "mlflow.register_model(model_uri=f'runs:/{run_id}/models',\n",
    "                      name='iris-classifier')"
   ]
  },
  {
   "cell_type": "code",
   "execution_count": null,
   "id": "64cd6a08-4502-43af-abbd-2e6e4b51a661",
   "metadata": {},
   "outputs": [],
   "source": []
  }
 ],
 "metadata": {
  "kernelspec": {
   "display_name": "Python 3 (ipykernel)",
   "language": "python",
   "name": "python3"
  },
  "language_info": {
   "codemirror_mode": {
    "name": "ipython",
    "version": 3
   },
   "file_extension": ".py",
   "mimetype": "text/x-python",
   "name": "python",
   "nbconvert_exporter": "python",
   "pygments_lexer": "ipython3",
   "version": "3.10.14"
  }
 },
 "nbformat": 4,
 "nbformat_minor": 5
}
