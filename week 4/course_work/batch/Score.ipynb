{
 "cells": [
  {
   "cell_type": "code",
   "execution_count": 1,
   "id": "d295b8dd",
   "metadata": {},
   "outputs": [],
   "source": [
    "import pickle\n",
    "import os\n",
    "import pandas as pd\n",
    "\n",
    "from sklearn.feature_extraction import DictVectorizer\n",
    "from sklearn.ensemble import RandomForestRegressor\n",
    "from sklearn.metrics import mean_squared_error\n",
    "import mlflow\n",
    "import uuid\n",
    "\n",
    "RUN_ID = \"a1397aaac61141a9a77920a9e42ce066\"\n"
   ]
  },
  {
   "cell_type": "code",
   "execution_count": 2,
   "id": "d399a660",
   "metadata": {},
   "outputs": [],
   "source": [
    "year = 2021\n",
    "month = 3\n",
    "taxi_type = 'green'\n",
    "input_file = f'https://d37ci6vzurychx.cloudfront.net/trip-data/{taxi_type}_tripdata_{year:04d}-{month:02d}.parquet'\n",
    "output_folder = 'output'\n",
    "output_path = f'{output_folder}/{taxi_type}'\n",
    "output_file = f'{output_path}/{os.path.basename(input_file)}'\n",
    "\n",
    "os.makedirs(output_path, exist_ok=True)\n"
   ]
  },
  {
   "cell_type": "code",
   "execution_count": 3,
   "id": "e39257f8",
   "metadata": {},
   "outputs": [],
   "source": [
    "def read_dataframe(filename: str):\n",
    "    df = pd.read_parquet(filename)\n",
    "\n",
    "    df['duration'] = df.lpep_dropoff_datetime - df.lpep_pickup_datetime\n",
    "    df.duration = df.duration.dt.total_seconds() / 60\n",
    "    df = df[(df.duration >= 1) & (df.duration <= 60)]\n",
    "    df['ride_ids'] = create_uuids(len(df))\n",
    "    \n",
    "    return df\n",
    "\n",
    "\n",
    "def prepare_dictionaries(df: pd.DataFrame):\n",
    "    categorical = ['PULocationID', 'DOLocationID']\n",
    "    df[categorical] = df[categorical].astype(str)\n",
    "    df['PU_DO'] = df['PULocationID'] + '_' + df['DOLocationID']\n",
    "    categorical = ['PU_DO']\n",
    "    numerical = ['trip_distance']\n",
    "    dicts = df[categorical + numerical].to_dict(orient='records')\n",
    "    return dicts"
   ]
  },
  {
   "cell_type": "code",
   "execution_count": 4,
   "id": "f26d5f69",
   "metadata": {},
   "outputs": [],
   "source": [
    "def create_uuids(n):\n",
    "\n",
    "    ride_ids = []\n",
    "    for i in range(n):\n",
    "        ride_ids.append(str(uuid.uuid4()))\n",
    "\n",
    "    return ride_ids"
   ]
  },
  {
   "cell_type": "code",
   "execution_count": 5,
   "id": "d132bf32",
   "metadata": {},
   "outputs": [],
   "source": [
    "def load_model(run_id):\n",
    "    logged_model = f\"s3://mlflow--bucket/1/{RUN_ID}/artifacts/model\"\n",
    "    model = mlflow.pyfunc.load_model(logged_model)\n",
    "    return model\n",
    "\n",
    "def apply_model(input_file, run_id, output_file):\n",
    "    df = read_dataframe(input_file)\n",
    "    dict_df = prepare_dictionaries(df)\n",
    "    \n",
    "    model = load_model(run_id)\n",
    "    y_preds = model.predict(dict_df)\n",
    "    \n",
    "    df_results = pd.DataFrame()\n",
    "    df_results['ride_id'] = df['ride_ids']\n",
    "    df_results['lpep_pickup_datetime'] = df['lpep_pickup_datetime']\n",
    "    df_results['PULocationID'] = df['PULocationID']\n",
    "    df_results['DOLocationID'] = df['DOLocationID']\n",
    "    df_results['predicted_duration'] = y_preds\n",
    "    df_results['actual_duration'] = df['duration']\n",
    "    df_results['duration_difference'] = df['duration'] - df_results['predicted_duration']\n",
    "    df_results['model_version'] = RUN_ID\n",
    "    \n",
    "    df.to_parquet(f'{output_file}', index=False)"
   ]
  },
  {
   "cell_type": "code",
   "execution_count": 6,
   "id": "3f141103",
   "metadata": {},
   "outputs": [
    {
     "data": {
      "application/vnd.jupyter.widget-view+json": {
       "model_id": "3ddfd21eb3f6450a87f95b6cfb417d54",
       "version_major": 2,
       "version_minor": 0
      },
      "text/plain": [
       "Downloading artifacts:   0%|          | 0/9 [00:00<?, ?it/s]"
      ]
     },
     "metadata": {},
     "output_type": "display_data"
    }
   ],
   "source": [
    "apply_model(input_file, RUN_ID, output_file)"
   ]
  }
 ],
 "metadata": {
  "kernelspec": {
   "display_name": "Python 3 (ipykernel)",
   "language": "python",
   "name": "python3"
  },
  "language_info": {
   "codemirror_mode": {
    "name": "ipython",
    "version": 3
   },
   "file_extension": ".py",
   "mimetype": "text/x-python",
   "name": "python",
   "nbconvert_exporter": "python",
   "pygments_lexer": "ipython3",
   "version": "3.10.14"
  }
 },
 "nbformat": 4,
 "nbformat_minor": 5
}
